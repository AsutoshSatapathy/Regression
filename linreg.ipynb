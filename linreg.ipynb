{
  "nbformat": 4,
  "nbformat_minor": 0,
  "metadata": {
    "anaconda-cloud": {},
    "kernelspec": {
      "name": "python3",
      "display_name": "Python 3"
    },
    "nteract": {
      "version": "0.7.1"
    },
    "colab": {
      "name": "linreg.ipynb",
      "provenance": [],
      "include_colab_link": true
    }
  },
  "cells": [
    {
      "cell_type": "markdown",
      "metadata": {
        "id": "view-in-github",
        "colab_type": "text"
      },
      "source": [
        "<a href=\"https://colab.research.google.com/github/AsutoshSatapathy/Regression/blob/main/linreg.ipynb\" target=\"_parent\"><img src=\"https://colab.research.google.com/assets/colab-badge.svg\" alt=\"Open In Colab\"/></a>"
      ]
    },
    {
      "cell_type": "markdown",
      "metadata": {
        "id": "F-qjsO3-CyTH"
      },
      "source": [
        "# Linear Regression Multiple Ways"
      ]
    },
    {
      "cell_type": "code",
      "metadata": {
        "id": "620-WPuCsS-S"
      },
      "source": [
        ""
      ],
      "execution_count": null,
      "outputs": []
    },
    {
      "cell_type": "markdown",
      "metadata": {
        "id": "vhI2fAh1C360"
      },
      "source": [
        "!git init; git pull https://github.com/YOUR_USERNAME/Regression.git"
      ]
    },
    {
      "cell_type": "code",
      "metadata": {
        "colab": {
          "base_uri": "https://localhost:8080/"
        },
        "id": "t2q40CcQsj_G",
        "outputId": "0b601f5c-c77d-4b26-f471-5f4ce6287e9b"
      },
      "source": [
        "!git init; git pull https://github.com/AsutoshSatapathy/Regression.git"
      ],
      "execution_count": 6,
      "outputs": [
        {
          "output_type": "stream",
          "text": [
            "Reinitialized existing Git repository in /content/.git/\n",
            "remote: Enumerating objects: 157, done.\u001b[K\n",
            "remote: Counting objects:   0% (1/157)\u001b[K\rremote: Counting objects:   1% (2/157)\u001b[K\rremote: Counting objects:   2% (4/157)\u001b[K\rremote: Counting objects:   3% (5/157)\u001b[K\rremote: Counting objects:   4% (7/157)\u001b[K\rremote: Counting objects:   5% (8/157)\u001b[K\rremote: Counting objects:   6% (10/157)\u001b[K\rremote: Counting objects:   7% (11/157)\u001b[K\rremote: Counting objects:   8% (13/157)\u001b[K\rremote: Counting objects:   9% (15/157)\u001b[K\rremote: Counting objects:  10% (16/157)\u001b[K\rremote: Counting objects:  11% (18/157)\u001b[K\rremote: Counting objects:  12% (19/157)\u001b[K\rremote: Counting objects:  13% (21/157)\u001b[K\rremote: Counting objects:  14% (22/157)\u001b[K\rremote: Counting objects:  15% (24/157)\u001b[K\rremote: Counting objects:  16% (26/157)\u001b[K\rremote: Counting objects:  17% (27/157)\u001b[K\rremote: Counting objects:  18% (29/157)\u001b[K\rremote: Counting objects:  19% (30/157)\u001b[K\rremote: Counting objects:  20% (32/157)\u001b[K\rremote: Counting objects:  21% (33/157)\u001b[K\rremote: Counting objects:  22% (35/157)\u001b[K\rremote: Counting objects:  23% (37/157)\u001b[K\rremote: Counting objects:  24% (38/157)\u001b[K\rremote: Counting objects:  25% (40/157)\u001b[K\rremote: Counting objects:  26% (41/157)\u001b[K\rremote: Counting objects:  27% (43/157)\u001b[K\rremote: Counting objects:  28% (44/157)\u001b[K\rremote: Counting objects:  29% (46/157)\u001b[K\rremote: Counting objects:  30% (48/157)\u001b[K\rremote: Counting objects:  31% (49/157)\u001b[K\rremote: Counting objects:  32% (51/157)\u001b[K\rremote: Counting objects:  33% (52/157)\u001b[K\rremote: Counting objects:  34% (54/157)\u001b[K\rremote: Counting objects:  35% (55/157)\u001b[K\rremote: Counting objects:  36% (57/157)\u001b[K\rremote: Counting objects:  37% (59/157)\u001b[K\rremote: Counting objects:  38% (60/157)\u001b[K\rremote: Counting objects:  39% (62/157)\u001b[K\rremote: Counting objects:  40% (63/157)\u001b[K\rremote: Counting objects:  41% (65/157)\u001b[K\rremote: Counting objects:  42% (66/157)\u001b[K\rremote: Counting objects:  43% (68/157)\u001b[K\rremote: Counting objects:  44% (70/157)\u001b[K\rremote: Counting objects:  45% (71/157)\u001b[K\rremote: Counting objects:  46% (73/157)\u001b[K\rremote: Counting objects:  47% (74/157)\u001b[K\rremote: Counting objects:  48% (76/157)\u001b[K\rremote: Counting objects:  49% (77/157)\u001b[K\rremote: Counting objects:  50% (79/157)\u001b[K\rremote: Counting objects:  51% (81/157)\u001b[K\rremote: Counting objects:  52% (82/157)\u001b[K\rremote: Counting objects:  53% (84/157)\u001b[K\rremote: Counting objects:  54% (85/157)\u001b[K\rremote: Counting objects:  55% (87/157)\u001b[K\rremote: Counting objects:  56% (88/157)\u001b[K\rremote: Counting objects:  57% (90/157)\u001b[K\rremote: Counting objects:  58% (92/157)\u001b[K\rremote: Counting objects:  59% (93/157)\u001b[K\rremote: Counting objects:  60% (95/157)\u001b[K\rremote: Counting objects:  61% (96/157)\u001b[K\rremote: Counting objects:  62% (98/157)\u001b[K\rremote: Counting objects:  63% (99/157)\u001b[K\rremote: Counting objects:  64% (101/157)\u001b[K\rremote: Counting objects:  65% (103/157)\u001b[K\rremote: Counting objects:  66% (104/157)\u001b[K\rremote: Counting objects:  67% (106/157)\u001b[K\rremote: Counting objects:  68% (107/157)\u001b[K\rremote: Counting objects:  69% (109/157)\u001b[K\rremote: Counting objects:  70% (110/157)\u001b[K\rremote: Counting objects:  71% (112/157)\u001b[K\rremote: Counting objects:  72% (114/157)\u001b[K\rremote: Counting objects:  73% (115/157)\u001b[K\rremote: Counting objects:  74% (117/157)\u001b[K\rremote: Counting objects:  75% (118/157)\u001b[K\rremote: Counting objects:  76% (120/157)\u001b[K\rremote: Counting objects:  77% (121/157)\u001b[K\rremote: Counting objects:  78% (123/157)\u001b[K\rremote: Counting objects:  79% (125/157)\u001b[K\rremote: Counting objects:  80% (126/157)\u001b[K\rremote: Counting objects:  81% (128/157)\u001b[K\rremote: Counting objects:  82% (129/157)\u001b[K\rremote: Counting objects:  83% (131/157)\u001b[K\rremote: Counting objects:  84% (132/157)\u001b[K\rremote: Counting objects:  85% (134/157)\u001b[K\rremote: Counting objects:  86% (136/157)\u001b[K\rremote: Counting objects:  87% (137/157)\u001b[K\rremote: Counting objects:  88% (139/157)\u001b[K\rremote: Counting objects:  89% (140/157)\u001b[K\rremote: Counting objects:  90% (142/157)\u001b[K\rremote: Counting objects:  91% (143/157)\u001b[K\rremote: Counting objects:  92% (145/157)\u001b[K\rremote: Counting objects:  93% (147/157)\u001b[K\rremote: Counting objects:  94% (148/157)\u001b[K\rremote: Counting objects:  95% (150/157)\u001b[K\rremote: Counting objects:  96% (151/157)\u001b[K\rremote: Counting objects:  97% (153/157)\u001b[K\rremote: Counting objects:  98% (154/157)\u001b[K\rremote: Counting objects:  99% (156/157)\u001b[K\rremote: Counting objects: 100% (157/157)\u001b[K\rremote: Counting objects: 100% (157/157), done.\u001b[K\n",
            "remote: Compressing objects: 100% (156/156), done.\u001b[K\n",
            "remote: Total 157 (delta 0), reused 157 (delta 0), pack-reused 0\u001b[K\n",
            "Receiving objects: 100% (157/157), 19.11 MiB | 38.60 MiB/s, done.\n",
            "From https://github.com/AsutoshSatapathy/Regression\n",
            " * branch            HEAD       -> FETCH_HEAD\n"
          ],
          "name": "stdout"
        }
      ]
    },
    {
      "cell_type": "code",
      "metadata": {
        "colab": {
          "base_uri": "https://localhost:8080/"
        },
        "id": "S6w2f78StP9i",
        "outputId": "42f5d04f-00cf-455b-c690-2ec805bf8dc2"
      },
      "source": [
        "!ls"
      ],
      "execution_count": 7,
      "outputs": [
        {
          "output_type": "stream",
          "text": [
            "distribute_linreg.ipynb  lecture.pdf   README.md   sample_data\n",
            "images\t\t\t linreg.ipynb  Regression\n"
          ],
          "name": "stdout"
        }
      ]
    },
    {
      "cell_type": "markdown",
      "metadata": {
        "id": "RBBWZsb3CyTO"
      },
      "source": [
        "## Making the data\n",
        "\n",
        "We'll first construct a synthetic data set..using a function from the `scikit-learn` library. Synthetic data is nice in the sense that we can constrain how the noise behaves, and thus isolate effects."
      ]
    },
    {
      "cell_type": "code",
      "metadata": {
        "id": "yDBQLvGDCyTP"
      },
      "source": [
        "%matplotlib inline\n",
        "from sklearn.datasets import make_regression\n",
        "import numpy as np\n",
        "import matplotlib.pyplot as plt"
      ],
      "execution_count": 2,
      "outputs": []
    },
    {
      "cell_type": "markdown",
      "metadata": {
        "id": "SoCW2nSyCyTR"
      },
      "source": [
        "This data is generated from the canonical generating process assumed for linear regression: a gaussian distribution centered at the regression line on the y axis."
      ]
    },
    {
      "cell_type": "code",
      "metadata": {
        "id": "MQ4g4sN9CyTR"
      },
      "source": [
        "#code adapted from http://tillbergmann.com/blog/python-gradient-descent.html\n",
        "X, y, coef = make_regression(n_samples = 100, \n",
        "                       n_features=1, \n",
        "                       noise=20,\n",
        "                       random_state=2017,\n",
        "                       bias=0.0,\n",
        "                       coef=True)"
      ],
      "execution_count": 3,
      "outputs": []
    },
    {
      "cell_type": "markdown",
      "metadata": {
        "id": "Q98EPmtRCyTS"
      },
      "source": [
        "Notice that the X is in the canonical array-of-arrays format.\n",
        "**Try and print its shape**"
      ]
    },
    {
      "cell_type": "code",
      "metadata": {
        "colab": {
          "base_uri": "https://localhost:8080/"
        },
        "id": "iNpyFGTeCyTS",
        "outputId": "c0635c9e-2214-44eb-a532-f85ad50ba12f"
      },
      "source": [
        "# your code here\n",
        "X.shape, y.shape"
      ],
      "execution_count": 4,
      "outputs": [
        {
          "output_type": "execute_result",
          "data": {
            "text/plain": [
              "((100, 1), (100,))"
            ]
          },
          "metadata": {
            "tags": []
          },
          "execution_count": 4
        }
      ]
    },
    {
      "cell_type": "code",
      "metadata": {
        "id": "C6D36KZjvB5K",
        "outputId": "78f0d251-1308-4d42-9ffa-3cef0e37b950",
        "colab": {
          "base_uri": "https://localhost:8080/"
        }
      },
      "source": [
        "X"
      ],
      "execution_count": 6,
      "outputs": [
        {
          "output_type": "execute_result",
          "data": {
            "text/plain": [
              "array([[ 0.03225343],\n",
              "       [-0.43717257],\n",
              "       [-0.14039799],\n",
              "       [-0.28942671],\n",
              "       [-1.43048995],\n",
              "       [-0.86109055],\n",
              "       [-0.95908022],\n",
              "       [-0.52824237],\n",
              "       [-0.18007786],\n",
              "       [ 1.81894788],\n",
              "       [-1.50157469],\n",
              "       [ 1.07524045],\n",
              "       [-0.53757079],\n",
              "       [-0.33654744],\n",
              "       [-0.69333384],\n",
              "       [ 0.18613021],\n",
              "       [-0.35285906],\n",
              "       [-0.59573347],\n",
              "       [-0.95284841],\n",
              "       [ 1.37214258],\n",
              "       [-1.00148098],\n",
              "       [ 0.59405599],\n",
              "       [ 1.98893004],\n",
              "       [-0.84764818],\n",
              "       [ 0.21276995],\n",
              "       [-0.86352344],\n",
              "       [-0.44574656],\n",
              "       [-1.08669572],\n",
              "       [ 0.88578638],\n",
              "       [-0.39457786],\n",
              "       [-0.75808346],\n",
              "       [ 0.21445342],\n",
              "       [-0.91772873],\n",
              "       [ 1.18192126],\n",
              "       [-1.23456807],\n",
              "       [ 1.51028721],\n",
              "       [ 0.36908201],\n",
              "       [ 0.07800759],\n",
              "       [ 0.92827925],\n",
              "       [ 0.91180261],\n",
              "       [ 0.50541435],\n",
              "       [ 0.39476163],\n",
              "       [-1.40727442],\n",
              "       [ 1.33682587],\n",
              "       [ 0.28914398],\n",
              "       [ 0.10784411],\n",
              "       [-0.48610801],\n",
              "       [-1.01412413],\n",
              "       [-0.99058644],\n",
              "       [-0.81726253],\n",
              "       [ 1.19533418],\n",
              "       [ 1.39334529],\n",
              "       [-0.55307527],\n",
              "       [ 1.31181742],\n",
              "       [-0.20875222],\n",
              "       [ 0.02615138],\n",
              "       [ 0.03133165],\n",
              "       [-0.85845574],\n",
              "       [-0.09592554],\n",
              "       [ 0.57347598],\n",
              "       [ 0.88361674],\n",
              "       [-0.27481173],\n",
              "       [-0.89590558],\n",
              "       [-1.02294529],\n",
              "       [ 1.44454617],\n",
              "       [ 0.74268098],\n",
              "       [-0.55325354],\n",
              "       [ 0.46630994],\n",
              "       [ 0.81253433],\n",
              "       [-0.38342089],\n",
              "       [ 1.14773859],\n",
              "       [ 0.19909227],\n",
              "       [-0.09843773],\n",
              "       [-0.39285043],\n",
              "       [ 1.20320029],\n",
              "       [-1.56386788],\n",
              "       [-0.724668  ],\n",
              "       [-0.84860918],\n",
              "       [-0.22007928],\n",
              "       [-0.73312349],\n",
              "       [-0.44412137],\n",
              "       [ 1.23233384],\n",
              "       [-0.48253414],\n",
              "       [ 0.6770562 ],\n",
              "       [ 0.89574884],\n",
              "       [-0.01124513],\n",
              "       [-0.520261  ],\n",
              "       [-2.20268367],\n",
              "       [ 1.20129796],\n",
              "       [-0.74358543],\n",
              "       [-0.70954338],\n",
              "       [-0.19933591],\n",
              "       [-1.08933018],\n",
              "       [ 0.78779876],\n",
              "       [ 0.14851281],\n",
              "       [-0.59370289],\n",
              "       [ 0.44482146],\n",
              "       [ 2.42038368],\n",
              "       [ 0.67422499],\n",
              "       [ 0.02184234]])"
            ]
          },
          "metadata": {
            "tags": []
          },
          "execution_count": 6
        }
      ]
    },
    {
      "cell_type": "markdown",
      "metadata": {
        "id": "ij_miKEiCyTU"
      },
      "source": [
        "We are fitting a model with an intercept. Lets see what it is."
      ]
    },
    {
      "cell_type": "code",
      "metadata": {
        "colab": {
          "base_uri": "https://localhost:8080/"
        },
        "id": "5STse-DGCyTU",
        "outputId": "6f92d2f8-e70f-4ee7-8e94-0ea8914aa246"
      },
      "source": [
        "coef"
      ],
      "execution_count": 9,
      "outputs": [
        {
          "output_type": "execute_result",
          "data": {
            "text/plain": [
              "array(80.88336208)"
            ]
          },
          "metadata": {
            "tags": []
          },
          "execution_count": 9
        }
      ]
    },
    {
      "cell_type": "markdown",
      "metadata": {
        "id": "nRSyktEDCyTV"
      },
      "source": [
        "We can plot the data."
      ]
    },
    {
      "cell_type": "code",
      "metadata": {
        "colab": {
          "base_uri": "https://localhost:8080/",
          "height": 265
        },
        "id": "f34COrzrCyTV",
        "outputId": "d2042e61-67f4-447f-90a6-213bdff6c151"
      },
      "source": [
        "plt.plot(X,y, 'o');"
      ],
      "execution_count": 12,
      "outputs": [
        {
          "output_type": "display_data",
          "data": {
            "image/png": "[encoded data removed]",
            "text/plain": [
              "<Figure size 432x288 with 1 Axes>"
            ]
          },
          "metadata": {
            "tags": [],
            "needs_background": "light"
          }
        }
      ]
    },
    {
      "cell_type": "markdown",
      "metadata": {
        "id": "BBwzhUNYCyTW"
      },
      "source": [
        "For the purposes of drawing the regression line, lets create a uniform grid of points, and then reshape it into the canonical format"
      ]
    },
    {
      "cell_type": "code",
      "metadata": {
        "id": "jmedjoqJCyTX"
      },
      "source": [
        "xgrid = np.linspace(-2.5,2.5,1000)\n",
        "Xgrid = xgrid.reshape(-1,1)"
      ],
      "execution_count": 13,
      "outputs": []
    },
    {
      "cell_type": "markdown",
      "metadata": {
        "id": "-Qx4TklhCyTY"
      },
      "source": [
        "## Fit using sklearn"
      ]
    },
    {
      "cell_type": "code",
      "metadata": {
        "id": "ecdZyQdpCyTY"
      },
      "source": [
        "from sklearn.linear_model import LinearRegression"
      ],
      "execution_count": 16,
      "outputs": []
    },
    {
      "cell_type": "code",
      "metadata": {
        "colab": {
          "base_uri": "https://localhost:8080/"
        },
        "id": "NN8FEHXqCyTY",
        "outputId": "2348e5d3-6988-41e8-ed3c-01b7ca8bb508"
      },
      "source": [
        "lr = LinearRegression()\n",
        "lr.fit(X,y) # fit the model with the existing data\n",
        "ypgrid = lr.predict(Xgrid) # now predict it on the grid\n",
        "lr.coef_, lr.intercept_ # get the slope and the intercept"
      ],
      "execution_count": 17,
      "outputs": [
        {
          "output_type": "execute_result",
          "data": {
            "text/plain": [
              "(array([82.90456142]), -3.709228868670302)"
            ]
          },
          "metadata": {
            "tags": []
          },
          "execution_count": 17
        }
      ]
    },
    {
      "cell_type": "markdown",
      "metadata": {
        "id": "ihlAru1ACyTY"
      },
      "source": [
        "Notice that the slope and the intercept are not what we fed into the model, but close. This is because the model fitted depends on the exact way points were generated.."
      ]
    },
    {
      "cell_type": "code",
      "metadata": {
        "colab": {
          "base_uri": "https://localhost:8080/",
          "height": 282
        },
        "id": "xThEkz-FCyTZ",
        "outputId": "7dc9b05f-79b7-4133-c6d0-1669cbe9261c"
      },
      "source": [
        "plt.plot(Xgrid, ypgrid)\n",
        "plt.plot(X, y, '.')"
      ],
      "execution_count": 18,
      "outputs": [
        {
          "output_type": "execute_result",
          "data": {
            "text/plain": [
              "[<matplotlib.lines.Line2D at 0x7f4644196198>]"
            ]
          },
          "metadata": {
            "tags": []
          },
          "execution_count": 18
        },
        {
          "output_type": "display_data",
          "data": {
            "image/png": "[encoded data removed]",
            "text/plain": [
              "<Figure size 432x288 with 1 Axes>"
            ]
          },
          "metadata": {
            "tags": [],
            "needs_background": "light"
          }
        }
      ]
    },
    {
      "cell_type": "code",
      "metadata": {
        "id": "4vs9Qhf2CyTa"
      },
      "source": [
        "from sklearn.metrics import r2_score"
      ],
      "execution_count": 19,
      "outputs": []
    },
    {
      "cell_type": "code",
      "metadata": {
        "colab": {
          "base_uri": "https://localhost:8080/"
        },
        "id": "HGmhfmAjCyTa",
        "outputId": "bb56735e-8823-42e4-b7d3-7efcfeec5135"
      },
      "source": [
        "r2_score(y, lr.predict(X))"
      ],
      "execution_count": 20,
      "outputs": [
        {
          "output_type": "execute_result",
          "data": {
            "text/plain": [
              "0.9342344891672815"
            ]
          },
          "metadata": {
            "tags": []
          },
          "execution_count": 20
        }
      ]
    },
    {
      "cell_type": "markdown",
      "metadata": {
        "id": "I7g78BarCyTb"
      },
      "source": [
        "## The impact of samples\n",
        "\n",
        "We'll sample 20 points from the data set. We do this by sampling 20 indices, index into X and y, and then fit on the sample"
      ]
    },
    {
      "cell_type": "code",
      "metadata": {
        "colab": {
          "base_uri": "https://localhost:8080/"
        },
        "id": "1ajLCrOWCyTb",
        "outputId": "73b1b23d-26e0-4672-d427-417e9afab72c"
      },
      "source": [
        "sample_indices = np.random.choice(range(100), size=20, replace=False)\n",
        "sample_indices"
      ],
      "execution_count": 21,
      "outputs": [
        {
          "output_type": "execute_result",
          "data": {
            "text/plain": [
              "array([18, 39, 76, 88, 68, 89, 85,  7, 53, 30,  8, 65, 28, 96, 33, 77, 49,\n",
              "       40, 44, 22])"
            ]
          },
          "metadata": {
            "tags": []
          },
          "execution_count": 21
        }
      ]
    },
    {
      "cell_type": "markdown",
      "metadata": {
        "id": "4qjIde5_CyTb"
      },
      "source": [
        "We create a sample by using the sample indices:"
      ]
    },
    {
      "cell_type": "code",
      "metadata": {
        "id": "A3fp5XwTCyTc"
      },
      "source": [
        "Xsample = X[sample_indices]\n",
        "ysample = y[sample_indices]"
      ],
      "execution_count": 22,
      "outputs": []
    },
    {
      "cell_type": "markdown",
      "metadata": {
        "id": "lE3G5P4iCyTc"
      },
      "source": [
        "**Find the $R^2$ score of a fit to this sample, on this sample**"
      ]
    },
    {
      "cell_type": "code",
      "metadata": {
        "colab": {
          "base_uri": "https://localhost:8080/"
        },
        "id": "BJ8M1Da1CyTc",
        "outputId": "dca48d0d-d608-4600-e214-984002c01677"
      },
      "source": [
        "# your code here\n",
        "lr_s = LinearRegression().fit(Xsample, ysample)\n",
        "lr_s.score(Xsample, ysample)"
      ],
      "execution_count": 23,
      "outputs": [
        {
          "output_type": "execute_result",
          "data": {
            "text/plain": [
              "0.92513686412002"
            ]
          },
          "metadata": {
            "tags": []
          },
          "execution_count": 23
        }
      ]
    },
    {
      "cell_type": "markdown",
      "metadata": {
        "id": "JKo99KksCyTd"
      },
      "source": [
        "Lets check the sensitivity of our prediction to our sample. We'll do this 1000 times..that is we'll sample a new set of 20 points, "
      ]
    },
    {
      "cell_type": "code",
      "metadata": {
        "colab": {
          "base_uri": "https://localhost:8080/",
          "height": 282
        },
        "id": "SyD960zACyTe",
        "outputId": "7b3ac122-3fd4-4931-a319-d83c15433f5b"
      },
      "source": [
        "scores = []\n",
        "models=[]\n",
        "for i in range(1000):\n",
        "    sample_indices = np.random.choice(range(100), size=20, replace=False)\n",
        "    Xsample = X[sample_indices]\n",
        "    ysample = y[sample_indices]\n",
        "    m = LinearRegression().fit(Xsample, ysample)\n",
        "    models.append(m)\n",
        "    scores.append(m.score(Xsample, ysample))\n",
        "plt.hist(scores,  bins=np.linspace(0.7, 1, 30))\n",
        "plt.xlim(0.7,1)"
      ],
      "execution_count": 24,
      "outputs": [
        {
          "output_type": "execute_result",
          "data": {
            "text/plain": [
              "(0.7, 1.0)"
            ]
          },
          "metadata": {
            "tags": []
          },
          "execution_count": 24
        },
        {
          "output_type": "display_data",
          "data": {
            "image/png": "[encoded data removed]",
            "text/plain": [
              "<Figure size 432x288 with 1 Axes>"
            ]
          },
          "metadata": {
            "tags": [],
            "needs_background": "light"
          }
        }
      ]
    },
    {
      "cell_type": "markdown",
      "metadata": {
        "id": "vAqEUbtvCyTe"
      },
      "source": [
        "Let us check the slope and intercepts fitted on the different samples"
      ]
    },
    {
      "cell_type": "code",
      "metadata": {
        "colab": {
          "base_uri": "https://localhost:8080/",
          "height": 282
        },
        "id": "xMn-JQLkCyTe",
        "outputId": "b873dc81-7b9e-4a36-9e60-db5b90ae9971"
      },
      "source": [
        "plt.hist([models[i].coef_[0] for i in range(1000)], bins=10);\n",
        "plt.xlim([60, 100])"
      ],
      "execution_count": 25,
      "outputs": [
        {
          "output_type": "execute_result",
          "data": {
            "text/plain": [
              "(60.0, 100.0)"
            ]
          },
          "metadata": {
            "tags": []
          },
          "execution_count": 25
        },
        {
          "output_type": "display_data",
          "data": {
            "image/png": "[encoded data removed]",
            "text/plain": [
              "<Figure size 432x288 with 1 Axes>"
            ]
          },
          "metadata": {
            "tags": [],
            "needs_background": "light"
          }
        }
      ]
    },
    {
      "cell_type": "code",
      "metadata": {
        "colab": {
          "base_uri": "https://localhost:8080/",
          "height": 282
        },
        "id": "teZnVAyICyTf",
        "outputId": "ed9de770-b149-4c9a-b6b2-0bd302c68e19"
      },
      "source": [
        "plt.hist([models[i].intercept_ for i in range(100)], bins=10);\n",
        "plt.xlim([-15, 10])"
      ],
      "execution_count": 26,
      "outputs": [
        {
          "output_type": "execute_result",
          "data": {
            "text/plain": [
              "(-15.0, 10.0)"
            ]
          },
          "metadata": {
            "tags": []
          },
          "execution_count": 26
        },
        {
          "output_type": "display_data",
          "data": {
            "image/png": "[encoded data removed]",
            "text/plain": [
              "<Figure size 432x288 with 1 Axes>"
            ]
          },
          "metadata": {
            "tags": [],
            "needs_background": "light"
          }
        }
      ]
    },
    {
      "cell_type": "markdown",
      "metadata": {
        "id": "8D5cIb07CyTf"
      },
      "source": [
        "## The impact of noise\n",
        "\n",
        "**Redo this with a higher amount of noise (about 400)**. For this you will need to create a new dataset. Plot the data. Plot the histogram of the R^2 as well as that of the coefficients."
      ]
    },
    {
      "cell_type": "code",
      "metadata": {
        "colab": {
          "base_uri": "https://localhost:8080/",
          "height": 0
        },
        "id": "YrW_wcIkCyTf",
        "outputId": "c5889a4c-f5df-4836-8614-75842e6b8f5a"
      },
      "source": [
        "# your code here\n",
        "Xnew, ynew, coefnew = make_regression(n_samples = 100, \n",
        "                       n_features=1, \n",
        "                       noise=400,\n",
        "                       random_state=2017,\n",
        "                       bias=0.0, \n",
        "                       coef=True)\n",
        "plt.plot(Xnew, ynew, 'o');"
      ],
      "execution_count": 27,
      "outputs": [
        {
          "output_type": "display_data",
          "data": {
            "image/png": "[encoded data removed]",
            "text/plain": [
              "<Figure size 432x288 with 1 Axes>"
            ]
          },
          "metadata": {
            "tags": [],
            "needs_background": "light"
          }
        }
      ]
    },
    {
      "cell_type": "code",
      "metadata": {
        "colab": {
          "base_uri": "https://localhost:8080/",
          "height": 0
        },
        "id": "rq-nZKfDCyTg",
        "outputId": "f0a55ed1-c539-4880-e489-258a587445d6"
      },
      "source": [
        "# your code here\n",
        "scores = []\n",
        "models = []\n",
        "for i in range(1000):\n",
        "    sample_indices = np.random.choice(range(100), size=20, replace=False)\n",
        "    Xsample = Xnew[sample_indices]\n",
        "    ysample = ynew[sample_indices]\n",
        "    m = LinearRegression().fit(Xsample, ysample)\n",
        "    models.append(m)\n",
        "    scores.append(m.score(Xsample, ysample))\n",
        "plt.hist(scores);"
      ],
      "execution_count": 28,
      "outputs": [
        {
          "output_type": "display_data",
          "data": {
            "image/png": "[encoded data removed]",
            "text/plain": [
              "<Figure size 432x288 with 1 Axes>"
            ]
          },
          "metadata": {
            "tags": [],
            "needs_background": "light"
          }
        }
      ]
    },
    {
      "cell_type": "code",
      "metadata": {
        "colab": {
          "base_uri": "https://localhost:8080/",
          "height": 0
        },
        "id": "UNcQhOJnCyTg",
        "outputId": "8694746b-9cf2-4665-a7f8-88e57752035c"
      },
      "source": [
        "# your code here\n",
        "plt.hist([models[i].coef_[0] for i in range(1000)], bins=10);"
      ],
      "execution_count": 29,
      "outputs": [
        {
          "output_type": "display_data",
          "data": {
            "image/png": "[encoded data removed]",
            "text/plain": [
              "<Figure size 432x288 with 1 Axes>"
            ]
          },
          "metadata": {
            "tags": [],
            "needs_background": "light"
          }
        }
      ]
    },
    {
      "cell_type": "code",
      "metadata": {
        "colab": {
          "base_uri": "https://localhost:8080/",
          "height": 0
        },
        "id": "3fr4EJraCyTg",
        "outputId": "0d49b74b-e2ea-441c-8bfc-80fa20245792"
      },
      "source": [
        "# your code here\n",
        "plt.hist([models[i].intercept_ for i in range(100)], bins=10);\n"
      ],
      "execution_count": 30,
      "outputs": [
        {
          "output_type": "display_data",
          "data": {
            "image/png": "[encoded data removed]",
            "text/plain": [
              "<Figure size 432x288 with 1 Axes>"
            ]
          },
          "metadata": {
            "tags": [],
            "needs_background": "light"
          }
        }
      ]
    },
    {
      "cell_type": "markdown",
      "metadata": {
        "id": "0IkDhVVnCyTg"
      },
      "source": [
        "## Impact of sample size\n",
        "\n",
        "Going back to the original dataset with less noise, now fetch smaller size samples  (10 data points each) and repeat"
      ]
    },
    {
      "cell_type": "code",
      "metadata": {
        "colab": {
          "base_uri": "https://localhost:8080/",
          "height": 282
        },
        "id": "vSHJRIJkCyTh",
        "outputId": "489f93b5-63d5-465b-de6f-0c94493fa817"
      },
      "source": [
        "# your code here\n",
        "scores = []\n",
        "models = []\n",
        "for i in range(1000):\n",
        "    sample_indices = np.random.choice(range(100), size=10, replace=False)\n",
        "    Xsample = X[sample_indices]\n",
        "    ysample = y[sample_indices]\n",
        "    m = LinearRegression().fit(Xsample, ysample)\n",
        "    models.append(m)\n",
        "    scores.append(m.score(Xsample, ysample))\n",
        "plt.hist(scores, bins=np.linspace(0.7, 1, 30));\n",
        "plt.xlim(0.7,1)"
      ],
      "execution_count": null,
      "outputs": [
        {
          "output_type": "execute_result",
          "data": {
            "text/plain": [
              "(0.7, 1.0)"
            ]
          },
          "metadata": {
            "tags": []
          },
          "execution_count": 24
        },
        {
          "output_type": "display_data",
          "data": {
            "image/png": "[encoded data removed]",
            "text/plain": [
              "<Figure size 432x288 with 1 Axes>"
            ]
          },
          "metadata": {
            "tags": [],
            "needs_background": "light"
          }
        }
      ]
    },
    {
      "cell_type": "code",
      "metadata": {
        "colab": {
          "base_uri": "https://localhost:8080/",
          "height": 282
        },
        "id": "kO7MH8z3CyTh",
        "outputId": "a85190d6-5a74-46cc-801a-31d9b6ef8226"
      },
      "source": [
        "# your code here\n",
        "plt.hist([models[i].coef_[0] for i in range(1000)], bins=10);\n",
        "plt.xlim([60, 100])"
      ],
      "execution_count": null,
      "outputs": [
        {
          "output_type": "execute_result",
          "data": {
            "text/plain": [
              "(60.0, 100.0)"
            ]
          },
          "metadata": {
            "tags": []
          },
          "execution_count": 25
        },
        {
          "output_type": "display_data",
          "data": {
            "image/png": "[encoded data removed]",
            "text/plain": [
              "<Figure size 432x288 with 1 Axes>"
            ]
          },
          "metadata": {
            "tags": [],
            "needs_background": "light"
          }
        }
      ]
    },
    {
      "cell_type": "code",
      "metadata": {
        "colab": {
          "base_uri": "https://localhost:8080/",
          "height": 282
        },
        "id": "Sn0zwqBuCyTh",
        "outputId": "fcbd1267-7384-43b9-95f3-6806fda823d5"
      },
      "source": [
        "plt.hist([models[i].intercept_ for i in range(100)], bins=10);\n",
        "plt.xlim([-15, 10])"
      ],
      "execution_count": null,
      "outputs": [
        {
          "output_type": "execute_result",
          "data": {
            "text/plain": [
              "(-15.0, 10.0)"
            ]
          },
          "metadata": {
            "tags": []
          },
          "execution_count": 26
        },
        {
          "output_type": "display_data",
          "data": {
            "image/png": "[encoded data removed]",
            "text/plain": [
              "<Figure size 432x288 with 1 Axes>"
            ]
          },
          "metadata": {
            "tags": [],
            "needs_background": "light"
          }
        }
      ]
    },
    {
      "cell_type": "markdown",
      "metadata": {
        "id": "BeErYPb9CyTi"
      },
      "source": [
        "## Testing and training\n",
        "\n",
        "A grid like the one we created might contain some of the points we fit this model on. This is called **Data Contamination** and is a big no-no. If we want an independent estimate of the error, we should hold out some points in a test set. Then we want to guarantee that there is no overlap between the initial sample, or **training set**, and the test set."
      ]
    },
    {
      "cell_type": "code",
      "metadata": {
        "id": "vxJH20BmCyTi"
      },
      "source": [
        "from sklearn.model_selection import train_test_split"
      ],
      "execution_count": 31,
      "outputs": []
    },
    {
      "cell_type": "code",
      "metadata": {
        "id": "ZBRKTAcGCyTi"
      },
      "source": [
        "Xtrain, Xtest, ytrain, ytest = train_test_split(X, y, test_size=0.2, random_state=2017)"
      ],
      "execution_count": 32,
      "outputs": []
    },
    {
      "cell_type": "code",
      "metadata": {
        "id": "gGVnF-oR06MN",
        "outputId": "56259196-580f-417c-d94f-41ec6f7f87d9",
        "colab": {
          "base_uri": "https://localhost:8080/"
        }
      },
      "source": [
        "Xtrain.shape, Xtest.shape"
      ],
      "execution_count": 34,
      "outputs": [
        {
          "output_type": "execute_result",
          "data": {
            "text/plain": [
              "((80, 1), (20, 1))"
            ]
          },
          "metadata": {
            "tags": []
          },
          "execution_count": 34
        }
      ]
    },
    {
      "cell_type": "markdown",
      "metadata": {
        "id": "ASm-rgK_CyTi"
      },
      "source": [
        "Now lets fit the model on the training set and evaluate it both on the training set and the test set. We print the R^2"
      ]
    },
    {
      "cell_type": "code",
      "metadata": {
        "id": "1IqnGc1iCyTi"
      },
      "source": [
        "lr2 = LinearRegression().fit(Xtrain, ytrain)\n",
        "r2_test = r2_score(ytest, lr.predict(Xtest))\n",
        "r2_train = r2_score(ytrain, lr.predict(Xtrain))"
      ],
      "execution_count": 33,
      "outputs": []
    },
    {
      "cell_type": "code",
      "metadata": {
        "colab": {
          "base_uri": "https://localhost:8080/",
          "height": 35
        },
        "id": "x_tnvbNfCyTj",
        "outputId": "c9898114-9294-4e52-b7a8-4ba3884e6842"
      },
      "source": [
        "\"Train R2 is {}, while test R^2 is {}\".format(r2_train, r2_test)"
      ],
      "execution_count": 35,
      "outputs": [
        {
          "output_type": "execute_result",
          "data": {
            "application/vnd.google.colaboratory.intrinsic+json": {
              "type": "string"
            },
            "text/plain": [
              "'Train R2 is 0.9302930567263316, while test R^2 is 0.9446796445954511'"
            ]
          },
          "metadata": {
            "tags": []
          },
          "execution_count": 35
        }
      ]
    },
    {
      "cell_type": "markdown",
      "metadata": {
        "id": "_bRVGa0ACyTj"
      },
      "source": [
        "## Using Keras to fit the model\n",
        "\n",
        "We'll use SGD (we could have used plain and simple gradient descent, why?) and Keras's Sequential API"
      ]
    },
    {
      "cell_type": "code",
      "metadata": {
        "colab": {
          "base_uri": "https://localhost:8080/"
        },
        "id": "CQsuCh9hCyTj",
        "outputId": "8d6e701b-17ce-47d4-e086-e41e57f41420"
      },
      "source": [
        "from keras.models import Sequential\n",
        "from keras.layers import Dense\n",
        "lr3 = Sequential()\n",
        "lr3.add(Dense(1, input_shape=(1,)))\n",
        "lr3.compile(optimizer='sgd', loss='mean_squared_error',  metrics=['mse','accuracy'])\n",
        "lr3.summary()"
      ],
      "execution_count": 38,
      "outputs": [
        {
          "output_type": "stream",
          "text": [
            "Model: \"sequential\"\n",
            "_________________________________________________________________\n",
            "Layer (type)                 Output Shape              Param #   \n",
            "=================================================================\n",
            "dense (Dense)                (None, 1)                 2         \n",
            "=================================================================\n",
            "Total params: 2\n",
            "Trainable params: 2\n",
            "Non-trainable params: 0\n",
            "_________________________________________________________________\n"
          ],
          "name": "stdout"
        }
      ]
    },
    {
      "cell_type": "code",
      "metadata": {
        "colab": {
          "base_uri": "https://localhost:8080/"
        },
        "id": "2miJgYFLCyTk",
        "outputId": "f083a5cb-de90-4377-ef3c-2b150940f223"
      },
      "source": [
        "history = lr3.fit(Xtrain, ytrain, epochs=100, batch_size=20)"
      ],
      "execution_count": 39,
      "outputs": [
        {
          "output_type": "stream",
          "text": [
            "Epoch 1/100\n",
            "4/4 [==============================] - 0s 2ms/step - loss: 5510.9056 - mse: 5510.9056 - accuracy: 0.0000e+00\n",
            "Epoch 2/100\n",
            "4/4 [==============================] - 0s 2ms/step - loss: 4484.9418 - mse: 4484.9418 - accuracy: 0.0000e+00\n",
            "Epoch 3/100\n",
            "4/4 [==============================] - 0s 2ms/step - loss: 4000.1472 - mse: 4000.1472 - accuracy: 0.0000e+00\n",
            "Epoch 4/100\n",
            "4/4 [==============================] - 0s 2ms/step - loss: 3731.6889 - mse: 3731.6889 - accuracy: 0.0000e+00\n",
            "Epoch 5/100\n",
            "4/4 [==============================] - 0s 2ms/step - loss: 3656.5417 - mse: 3656.5417 - accuracy: 0.0000e+00\n",
            "Epoch 6/100\n",
            "4/4 [==============================] - 0s 2ms/step - loss: 3225.7804 - mse: 3225.7804 - accuracy: 0.0000e+00\n",
            "Epoch 7/100\n",
            "4/4 [==============================] - 0s 2ms/step - loss: 2921.1054 - mse: 2921.1054 - accuracy: 0.0000e+00\n",
            "Epoch 8/100\n",
            "4/4 [==============================] - 0s 2ms/step - loss: 2649.4669 - mse: 2649.4669 - accuracy: 0.0000e+00\n",
            "Epoch 9/100\n",
            "4/4 [==============================] - 0s 2ms/step - loss: 2228.2000 - mse: 2228.2000 - accuracy: 0.0000e+00\n",
            "Epoch 10/100\n",
            "4/4 [==============================] - 0s 2ms/step - loss: 2353.3692 - mse: 2353.3692 - accuracy: 0.0000e+00\n",
            "Epoch 11/100\n",
            "4/4 [==============================] - 0s 2ms/step - loss: 1912.9010 - mse: 1912.9010 - accuracy: 0.0000e+00\n",
            "Epoch 12/100\n",
            "4/4 [==============================] - 0s 2ms/step - loss: 1989.9760 - mse: 1989.9760 - accuracy: 0.0000e+00\n",
            "Epoch 13/100\n",
            "4/4 [==============================] - 0s 2ms/step - loss: 1467.2698 - mse: 1467.2698 - accuracy: 0.0000e+00\n",
            "Epoch 14/100\n",
            "4/4 [==============================] - 0s 2ms/step - loss: 1512.8871 - mse: 1512.8871 - accuracy: 0.0000e+00\n",
            "Epoch 15/100\n",
            "4/4 [==============================] - 0s 2ms/step - loss: 1291.6335 - mse: 1291.6335 - accuracy: 0.0000e+00\n",
            "Epoch 16/100\n",
            "4/4 [==============================] - 0s 1ms/step - loss: 1268.5819 - mse: 1268.5819 - accuracy: 0.0000e+00\n",
            "Epoch 17/100\n",
            "4/4 [==============================] - 0s 2ms/step - loss: 968.9119 - mse: 968.9119 - accuracy: 0.0000e+00\n",
            "Epoch 18/100\n",
            "4/4 [==============================] - 0s 2ms/step - loss: 1010.9688 - mse: 1010.9688 - accuracy: 0.0000e+00\n",
            "Epoch 19/100\n",
            "4/4 [==============================] - 0s 2ms/step - loss: 975.5617 - mse: 975.5617 - accuracy: 0.0000e+00\n",
            "Epoch 20/100\n",
            "4/4 [==============================] - 0s 2ms/step - loss: 894.6775 - mse: 894.6775 - accuracy: 0.0000e+00\n",
            "Epoch 21/100\n",
            "4/4 [==============================] - 0s 2ms/step - loss: 894.0646 - mse: 894.0647 - accuracy: 0.0000e+00\n",
            "Epoch 22/100\n",
            "4/4 [==============================] - 0s 3ms/step - loss: 821.0853 - mse: 821.0853 - accuracy: 0.0000e+00\n",
            "Epoch 23/100\n",
            "4/4 [==============================] - 0s 2ms/step - loss: 790.3792 - mse: 790.3792 - accuracy: 0.0000e+00\n",
            "Epoch 24/100\n",
            "4/4 [==============================] - 0s 2ms/step - loss: 776.6494 - mse: 776.6494 - accuracy: 0.0000e+00\n",
            "Epoch 25/100\n",
            "4/4 [==============================] - 0s 2ms/step - loss: 691.4761 - mse: 691.4761 - accuracy: 0.0000e+00\n",
            "Epoch 26/100\n",
            "4/4 [==============================] - 0s 2ms/step - loss: 562.5778 - mse: 562.5778 - accuracy: 0.0000e+00\n",
            "Epoch 27/100\n",
            "4/4 [==============================] - 0s 2ms/step - loss: 536.9194 - mse: 536.9194 - accuracy: 0.0000e+00\n",
            "Epoch 28/100\n",
            "4/4 [==============================] - 0s 2ms/step - loss: 639.0849 - mse: 639.0849 - accuracy: 0.0000e+00\n",
            "Epoch 29/100\n",
            "4/4 [==============================] - 0s 2ms/step - loss: 587.1360 - mse: 587.1360 - accuracy: 0.0000e+00\n",
            "Epoch 30/100\n",
            "4/4 [==============================] - 0s 2ms/step - loss: 526.6398 - mse: 526.6398 - accuracy: 0.0000e+00\n",
            "Epoch 31/100\n",
            "4/4 [==============================] - 0s 2ms/step - loss: 506.2507 - mse: 506.2507 - accuracy: 0.0000e+00\n",
            "Epoch 32/100\n",
            "4/4 [==============================] - 0s 2ms/step - loss: 487.2421 - mse: 487.2421 - accuracy: 0.0000e+00\n",
            "Epoch 33/100\n",
            "4/4 [==============================] - 0s 2ms/step - loss: 509.7098 - mse: 509.7098 - accuracy: 0.0000e+00\n",
            "Epoch 34/100\n",
            "4/4 [==============================] - 0s 2ms/step - loss: 434.2448 - mse: 434.2448 - accuracy: 0.0000e+00\n",
            "Epoch 35/100\n",
            "4/4 [==============================] - 0s 2ms/step - loss: 452.5479 - mse: 452.5479 - accuracy: 0.0000e+00\n",
            "Epoch 36/100\n",
            "4/4 [==============================] - 0s 2ms/step - loss: 389.8009 - mse: 389.8009 - accuracy: 0.0000e+00\n",
            "Epoch 37/100\n",
            "4/4 [==============================] - 0s 2ms/step - loss: 454.3074 - mse: 454.3074 - accuracy: 0.0000e+00\n",
            "Epoch 38/100\n",
            "4/4 [==============================] - 0s 2ms/step - loss: 403.5707 - mse: 403.5707 - accuracy: 0.0000e+00\n",
            "Epoch 39/100\n",
            "4/4 [==============================] - 0s 2ms/step - loss: 447.8137 - mse: 447.8137 - accuracy: 0.0000e+00\n",
            "Epoch 40/100\n",
            "4/4 [==============================] - 0s 2ms/step - loss: 410.7043 - mse: 410.7043 - accuracy: 0.0000e+00\n",
            "Epoch 41/100\n",
            "4/4 [==============================] - 0s 3ms/step - loss: 431.8951 - mse: 431.8951 - accuracy: 0.0000e+00\n",
            "Epoch 42/100\n",
            "4/4 [==============================] - 0s 2ms/step - loss: 461.1388 - mse: 461.1388 - accuracy: 0.0000e+00\n",
            "Epoch 43/100\n",
            "4/4 [==============================] - 0s 2ms/step - loss: 436.3894 - mse: 436.3894 - accuracy: 0.0000e+00\n",
            "Epoch 44/100\n",
            "4/4 [==============================] - 0s 2ms/step - loss: 339.6124 - mse: 339.6124 - accuracy: 0.0000e+00\n",
            "Epoch 45/100\n",
            "4/4 [==============================] - 0s 2ms/step - loss: 437.0933 - mse: 437.0933 - accuracy: 0.0000e+00\n",
            "Epoch 46/100\n",
            "4/4 [==============================] - 0s 2ms/step - loss: 384.8540 - mse: 384.8540 - accuracy: 0.0000e+00\n",
            "Epoch 47/100\n",
            "4/4 [==============================] - 0s 2ms/step - loss: 389.1690 - mse: 389.1690 - accuracy: 0.0000e+00\n",
            "Epoch 48/100\n",
            "4/4 [==============================] - 0s 2ms/step - loss: 386.7859 - mse: 386.7859 - accuracy: 0.0000e+00\n",
            "Epoch 49/100\n",
            "4/4 [==============================] - 0s 2ms/step - loss: 418.5922 - mse: 418.5922 - accuracy: 0.0000e+00\n",
            "Epoch 50/100\n",
            "4/4 [==============================] - 0s 3ms/step - loss: 365.7786 - mse: 365.7786 - accuracy: 0.0000e+00\n",
            "Epoch 51/100\n",
            "4/4 [==============================] - 0s 2ms/step - loss: 412.5742 - mse: 412.5743 - accuracy: 0.0000e+00\n",
            "Epoch 52/100\n",
            "4/4 [==============================] - 0s 2ms/step - loss: 390.3401 - mse: 390.3401 - accuracy: 0.0000e+00\n",
            "Epoch 53/100\n",
            "4/4 [==============================] - 0s 2ms/step - loss: 396.9178 - mse: 396.9178 - accuracy: 0.0000e+00\n",
            "Epoch 54/100\n",
            "4/4 [==============================] - 0s 2ms/step - loss: 418.8743 - mse: 418.8743 - accuracy: 0.0000e+00\n",
            "Epoch 55/100\n",
            "4/4 [==============================] - 0s 2ms/step - loss: 355.7624 - mse: 355.7624 - accuracy: 0.0000e+00\n",
            "Epoch 56/100\n",
            "4/4 [==============================] - 0s 2ms/step - loss: 374.1268 - mse: 374.1268 - accuracy: 0.0000e+00\n",
            "Epoch 57/100\n",
            "4/4 [==============================] - 0s 3ms/step - loss: 403.5174 - mse: 403.5174 - accuracy: 0.0000e+00\n",
            "Epoch 58/100\n",
            "4/4 [==============================] - 0s 2ms/step - loss: 338.8088 - mse: 338.8088 - accuracy: 0.0000e+00\n",
            "Epoch 59/100\n",
            "4/4 [==============================] - 0s 2ms/step - loss: 361.9855 - mse: 361.9855 - accuracy: 0.0000e+00\n",
            "Epoch 60/100\n",
            "4/4 [==============================] - 0s 2ms/step - loss: 397.3602 - mse: 397.3602 - accuracy: 0.0000e+00\n",
            "Epoch 61/100\n",
            "4/4 [==============================] - 0s 2ms/step - loss: 335.2605 - mse: 335.2605 - accuracy: 0.0000e+00\n",
            "Epoch 62/100\n",
            "4/4 [==============================] - 0s 2ms/step - loss: 378.6625 - mse: 378.6625 - accuracy: 0.0000e+00\n",
            "Epoch 63/100\n",
            "4/4 [==============================] - 0s 2ms/step - loss: 385.8051 - mse: 385.8051 - accuracy: 0.0000e+00\n",
            "Epoch 64/100\n",
            "4/4 [==============================] - 0s 2ms/step - loss: 335.6835 - mse: 335.6835 - accuracy: 0.0000e+00\n",
            "Epoch 65/100\n",
            "4/4 [==============================] - 0s 2ms/step - loss: 358.5240 - mse: 358.5240 - accuracy: 0.0000e+00\n",
            "Epoch 66/100\n",
            "4/4 [==============================] - 0s 2ms/step - loss: 374.1510 - mse: 374.1510 - accuracy: 0.0000e+00\n",
            "Epoch 67/100\n",
            "4/4 [==============================] - 0s 2ms/step - loss: 384.1907 - mse: 384.1907 - accuracy: 0.0000e+00\n",
            "Epoch 68/100\n",
            "4/4 [==============================] - 0s 2ms/step - loss: 387.3501 - mse: 387.3501 - accuracy: 0.0000e+00\n",
            "Epoch 69/100\n",
            "4/4 [==============================] - 0s 2ms/step - loss: 354.6059 - mse: 354.6059 - accuracy: 0.0000e+00\n",
            "Epoch 70/100\n",
            "4/4 [==============================] - 0s 2ms/step - loss: 382.4639 - mse: 382.4639 - accuracy: 0.0000e+00\n",
            "Epoch 71/100\n",
            "4/4 [==============================] - 0s 2ms/step - loss: 401.3038 - mse: 401.3038 - accuracy: 0.0000e+00\n",
            "Epoch 72/100\n",
            "4/4 [==============================] - 0s 2ms/step - loss: 386.2450 - mse: 386.2450 - accuracy: 0.0000e+00\n",
            "Epoch 73/100\n",
            "4/4 [==============================] - 0s 2ms/step - loss: 385.5673 - mse: 385.5673 - accuracy: 0.0000e+00\n",
            "Epoch 74/100\n",
            "4/4 [==============================] - 0s 2ms/step - loss: 412.4352 - mse: 412.4352 - accuracy: 0.0000e+00\n",
            "Epoch 75/100\n",
            "4/4 [==============================] - 0s 2ms/step - loss: 396.9638 - mse: 396.9638 - accuracy: 0.0000e+00\n",
            "Epoch 76/100\n",
            "4/4 [==============================] - 0s 2ms/step - loss: 354.1891 - mse: 354.1891 - accuracy: 0.0000e+00\n",
            "Epoch 77/100\n",
            "4/4 [==============================] - 0s 2ms/step - loss: 403.1520 - mse: 403.1520 - accuracy: 0.0000e+00\n",
            "Epoch 78/100\n",
            "4/4 [==============================] - 0s 2ms/step - loss: 392.0070 - mse: 392.0070 - accuracy: 0.0000e+00\n",
            "Epoch 79/100\n",
            "4/4 [==============================] - 0s 2ms/step - loss: 410.7764 - mse: 410.7764 - accuracy: 0.0000e+00\n",
            "Epoch 80/100\n",
            "4/4 [==============================] - 0s 2ms/step - loss: 397.9526 - mse: 397.9526 - accuracy: 0.0000e+00\n",
            "Epoch 81/100\n",
            "4/4 [==============================] - 0s 2ms/step - loss: 375.9255 - mse: 375.9255 - accuracy: 0.0000e+00\n",
            "Epoch 82/100\n",
            "4/4 [==============================] - 0s 2ms/step - loss: 427.0765 - mse: 427.0765 - accuracy: 0.0000e+00\n",
            "Epoch 83/100\n",
            "4/4 [==============================] - 0s 2ms/step - loss: 431.1161 - mse: 431.1161 - accuracy: 0.0000e+00\n",
            "Epoch 84/100\n",
            "4/4 [==============================] - 0s 2ms/step - loss: 347.9296 - mse: 347.9296 - accuracy: 0.0000e+00\n",
            "Epoch 85/100\n",
            "4/4 [==============================] - 0s 2ms/step - loss: 334.2282 - mse: 334.2282 - accuracy: 0.0000e+00\n",
            "Epoch 86/100\n",
            "4/4 [==============================] - 0s 2ms/step - loss: 333.0061 - mse: 333.0061 - accuracy: 0.0000e+00\n",
            "Epoch 87/100\n",
            "4/4 [==============================] - 0s 2ms/step - loss: 380.5574 - mse: 380.5574 - accuracy: 0.0000e+00\n",
            "Epoch 88/100\n",
            "4/4 [==============================] - 0s 2ms/step - loss: 388.0337 - mse: 388.0337 - accuracy: 0.0000e+00\n",
            "Epoch 89/100\n",
            "4/4 [==============================] - 0s 2ms/step - loss: 378.6778 - mse: 378.6778 - accuracy: 0.0000e+00\n",
            "Epoch 90/100\n",
            "4/4 [==============================] - 0s 2ms/step - loss: 368.4507 - mse: 368.4507 - accuracy: 0.0000e+00\n",
            "Epoch 91/100\n",
            "4/4 [==============================] - 0s 2ms/step - loss: 326.0313 - mse: 326.0313 - accuracy: 0.0000e+00\n",
            "Epoch 92/100\n",
            "4/4 [==============================] - 0s 2ms/step - loss: 441.5572 - mse: 441.5572 - accuracy: 0.0000e+00\n",
            "Epoch 93/100\n",
            "4/4 [==============================] - 0s 2ms/step - loss: 364.5017 - mse: 364.5017 - accuracy: 0.0000e+00\n",
            "Epoch 94/100\n",
            "4/4 [==============================] - 0s 2ms/step - loss: 400.4207 - mse: 400.4207 - accuracy: 0.0000e+00\n",
            "Epoch 95/100\n",
            "4/4 [==============================] - 0s 2ms/step - loss: 414.6689 - mse: 414.6689 - accuracy: 0.0000e+00\n",
            "Epoch 96/100\n",
            "4/4 [==============================] - 0s 2ms/step - loss: 353.6614 - mse: 353.6614 - accuracy: 0.0000e+00\n",
            "Epoch 97/100\n",
            "4/4 [==============================] - 0s 2ms/step - loss: 388.9493 - mse: 388.9493 - accuracy: 0.0000e+00\n",
            "Epoch 98/100\n",
            "4/4 [==============================] - 0s 2ms/step - loss: 359.1200 - mse: 359.1200 - accuracy: 0.0000e+00\n",
            "Epoch 99/100\n",
            "4/4 [==============================] - 0s 2ms/step - loss: 320.7114 - mse: 320.7114 - accuracy: 0.0000e+00\n",
            "Epoch 100/100\n",
            "4/4 [==============================] - 0s 2ms/step - loss: 445.1817 - mse: 445.1817 - accuracy: 0.0000e+00\n"
          ],
          "name": "stdout"
        }
      ]
    },
    {
      "cell_type": "code",
      "metadata": {
        "id": "QTQ_vv224DoJ",
        "outputId": "29dcda1c-6d4b-409a-b2bc-6ffc904a0b4c",
        "colab": {
          "base_uri": "https://localhost:8080/"
        }
      },
      "source": [
        "history.history"
      ],
      "execution_count": 42,
      "outputs": [
        {
          "output_type": "execute_result",
          "data": {
            "text/plain": [
              "{'accuracy': [0.0,\n",
              "  0.0,\n",
              "  0.0,\n",
              "  0.0,\n",
              "  0.0,\n",
              "  0.0,\n",
              "  0.0,\n",
              "  0.0,\n",
              "  0.0,\n",
              "  0.0,\n",
              "  0.0,\n",
              "  0.0,\n",
              "  0.0,\n",
              "  0.0,\n",
              "  0.0,\n",
              "  0.0,\n",
              "  0.0,\n",
              "  0.0,\n",
              "  0.0,\n",
              "  0.0,\n",
              "  0.0,\n",
              "  0.0,\n",
              "  0.0,\n",
              "  0.0,\n",
              "  0.0,\n",
              "  0.0,\n",
              "  0.0,\n",
              "  0.0,\n",
              "  0.0,\n",
              "  0.0,\n",
              "  0.0,\n",
              "  0.0,\n",
              "  0.0,\n",
              "  0.0,\n",
              "  0.0,\n",
              "  0.0,\n",
              "  0.0,\n",
              "  0.0,\n",
              "  0.0,\n",
              "  0.0,\n",
              "  0.0,\n",
              "  0.0,\n",
              "  0.0,\n",
              "  0.0,\n",
              "  0.0,\n",
              "  0.0,\n",
              "  0.0,\n",
              "  0.0,\n",
              "  0.0,\n",
              "  0.0,\n",
              "  0.0,\n",
              "  0.0,\n",
              "  0.0,\n",
              "  0.0,\n",
              "  0.0,\n",
              "  0.0,\n",
              "  0.0,\n",
              "  0.0,\n",
              "  0.0,\n",
              "  0.0,\n",
              "  0.0,\n",
              "  0.0,\n",
              "  0.0,\n",
              "  0.0,\n",
              "  0.0,\n",
              "  0.0,\n",
              "  0.0,\n",
              "  0.0,\n",
              "  0.0,\n",
              "  0.0,\n",
              "  0.0,\n",
              "  0.0,\n",
              "  0.0,\n",
              "  0.0,\n",
              "  0.0,\n",
              "  0.0,\n",
              "  0.0,\n",
              "  0.0,\n",
              "  0.0,\n",
              "  0.0,\n",
              "  0.0,\n",
              "  0.0,\n",
              "  0.0,\n",
              "  0.0,\n",
              "  0.0,\n",
              "  0.0,\n",
              "  0.0,\n",
              "  0.0,\n",
              "  0.0,\n",
              "  0.0,\n",
              "  0.0,\n",
              "  0.0,\n",
              "  0.0,\n",
              "  0.0,\n",
              "  0.0,\n",
              "  0.0,\n",
              "  0.0,\n",
              "  0.0,\n",
              "  0.0,\n",
              "  0.0],\n",
              " 'loss': [5321.63525390625,\n",
              "  4771.53271484375,\n",
              "  4282.53515625,\n",
              "  3842.41943359375,\n",
              "  3456.869873046875,\n",
              "  3114.24365234375,\n",
              "  2813.200439453125,\n",
              "  2539.923095703125,\n",
              "  2296.64501953125,\n",
              "  2083.97119140625,\n",
              "  1894.334716796875,\n",
              "  1723.2666015625,\n",
              "  1573.682373046875,\n",
              "  1439.5772705078125,\n",
              "  1322.1802978515625,\n",
              "  1217.3897705078125,\n",
              "  1124.349365234375,\n",
              "  1039.026611328125,\n",
              "  965.31787109375,\n",
              "  899.4094848632812,\n",
              "  841.2643432617188,\n",
              "  788.6891479492188,\n",
              "  744.2982177734375,\n",
              "  701.9945068359375,\n",
              "  665.7003173828125,\n",
              "  633.1392822265625,\n",
              "  604.0053100585938,\n",
              "  578.5748901367188,\n",
              "  555.4313354492188,\n",
              "  535.1246948242188,\n",
              "  517.291748046875,\n",
              "  501.19110107421875,\n",
              "  486.5997009277344,\n",
              "  474.56781005859375,\n",
              "  463.6997985839844,\n",
              "  453.13812255859375,\n",
              "  444.23052978515625,\n",
              "  436.0503845214844,\n",
              "  429.0328063964844,\n",
              "  422.42755126953125,\n",
              "  417.36395263671875,\n",
              "  412.2129821777344,\n",
              "  408.03021240234375,\n",
              "  404.5498962402344,\n",
              "  400.8084411621094,\n",
              "  397.3465270996094,\n",
              "  394.469482421875,\n",
              "  392.350830078125,\n",
              "  390.1636657714844,\n",
              "  388.0547180175781,\n",
              "  386.21160888671875,\n",
              "  384.7356872558594,\n",
              "  383.7165832519531,\n",
              "  382.34197998046875,\n",
              "  381.14019775390625,\n",
              "  380.2532958984375,\n",
              "  379.11749267578125,\n",
              "  378.76556396484375,\n",
              "  378.00335693359375,\n",
              "  377.64300537109375,\n",
              "  376.7198486328125,\n",
              "  376.1764831542969,\n",
              "  375.6329650878906,\n",
              "  376.23223876953125,\n",
              "  375.5409240722656,\n",
              "  375.52264404296875,\n",
              "  374.6575622558594,\n",
              "  374.4417419433594,\n",
              "  374.31219482421875,\n",
              "  374.01116943359375,\n",
              "  374.60797119140625,\n",
              "  373.9100036621094,\n",
              "  373.3367614746094,\n",
              "  373.8069152832031,\n",
              "  373.27392578125,\n",
              "  373.6254577636719,\n",
              "  373.2461853027344,\n",
              "  373.2281799316406,\n",
              "  373.37066650390625,\n",
              "  373.31732177734375,\n",
              "  372.7748107910156,\n",
              "  373.049560546875,\n",
              "  372.8226013183594,\n",
              "  373.34136962890625,\n",
              "  372.9007263183594,\n",
              "  372.83892822265625,\n",
              "  372.82623291015625,\n",
              "  372.7499084472656,\n",
              "  372.3816833496094,\n",
              "  372.80609130859375,\n",
              "  373.0114440917969,\n",
              "  372.5467224121094,\n",
              "  372.7479553222656,\n",
              "  372.7513427734375,\n",
              "  372.47589111328125,\n",
              "  372.576416015625,\n",
              "  372.49395751953125,\n",
              "  372.5670166015625,\n",
              "  372.86138916015625,\n",
              "  372.7105407714844],\n",
              " 'mse': [5321.63525390625,\n",
              "  4771.53271484375,\n",
              "  4282.53515625,\n",
              "  3842.41943359375,\n",
              "  3456.869873046875,\n",
              "  3114.24365234375,\n",
              "  2813.200439453125,\n",
              "  2539.923095703125,\n",
              "  2296.64501953125,\n",
              "  2083.97119140625,\n",
              "  1894.334716796875,\n",
              "  1723.2666015625,\n",
              "  1573.682373046875,\n",
              "  1439.5772705078125,\n",
              "  1322.1802978515625,\n",
              "  1217.3897705078125,\n",
              "  1124.349365234375,\n",
              "  1039.026611328125,\n",
              "  965.31787109375,\n",
              "  899.4094848632812,\n",
              "  841.2643432617188,\n",
              "  788.6891479492188,\n",
              "  744.2982177734375,\n",
              "  701.9945068359375,\n",
              "  665.7003173828125,\n",
              "  633.1392822265625,\n",
              "  604.0053100585938,\n",
              "  578.5748901367188,\n",
              "  555.4313354492188,\n",
              "  535.1246948242188,\n",
              "  517.291748046875,\n",
              "  501.19110107421875,\n",
              "  486.5997009277344,\n",
              "  474.56781005859375,\n",
              "  463.6997985839844,\n",
              "  453.13812255859375,\n",
              "  444.23052978515625,\n",
              "  436.0503845214844,\n",
              "  429.0328063964844,\n",
              "  422.42755126953125,\n",
              "  417.36395263671875,\n",
              "  412.2129821777344,\n",
              "  408.03021240234375,\n",
              "  404.5498962402344,\n",
              "  400.8084411621094,\n",
              "  397.3465270996094,\n",
              "  394.469482421875,\n",
              "  392.350830078125,\n",
              "  390.1636657714844,\n",
              "  388.0547180175781,\n",
              "  386.21160888671875,\n",
              "  384.7356872558594,\n",
              "  383.7165832519531,\n",
              "  382.34197998046875,\n",
              "  381.14019775390625,\n",
              "  380.2532958984375,\n",
              "  379.11749267578125,\n",
              "  378.76556396484375,\n",
              "  378.00335693359375,\n",
              "  377.64300537109375,\n",
              "  376.7198486328125,\n",
              "  376.1764831542969,\n",
              "  375.6329650878906,\n",
              "  376.23223876953125,\n",
              "  375.5409240722656,\n",
              "  375.52264404296875,\n",
              "  374.65753173828125,\n",
              "  374.4417419433594,\n",
              "  374.31219482421875,\n",
              "  374.01123046875,\n",
              "  374.60797119140625,\n",
              "  373.9100036621094,\n",
              "  373.3367614746094,\n",
              "  373.8069152832031,\n",
              "  373.27392578125,\n",
              "  373.6254577636719,\n",
              "  373.2461853027344,\n",
              "  373.2281799316406,\n",
              "  373.37066650390625,\n",
              "  373.31732177734375,\n",
              "  372.7748107910156,\n",
              "  373.049560546875,\n",
              "  372.8226013183594,\n",
              "  373.34136962890625,\n",
              "  372.9007263183594,\n",
              "  372.83892822265625,\n",
              "  372.82623291015625,\n",
              "  372.7499084472656,\n",
              "  372.3816833496094,\n",
              "  372.80609130859375,\n",
              "  373.0114440917969,\n",
              "  372.5467224121094,\n",
              "  372.7479553222656,\n",
              "  372.7513427734375,\n",
              "  372.47589111328125,\n",
              "  372.576416015625,\n",
              "  372.49395751953125,\n",
              "  372.5670166015625,\n",
              "  372.86138916015625,\n",
              "  372.7105407714844]}"
            ]
          },
          "metadata": {
            "tags": []
          },
          "execution_count": 42
        }
      ]
    },
    {
      "cell_type": "code",
      "metadata": {
        "colab": {
          "base_uri": "https://localhost:8080/",
          "height": 282
        },
        "id": "tAhz39NZCyTk",
        "outputId": "ea4575bb-d566-4684-a68a-80237843ec6f"
      },
      "source": [
        "plt.plot(history.history['loss'])"
      ],
      "execution_count": null,
      "outputs": [
        {
          "output_type": "execute_result",
          "data": {
            "text/plain": [
              "[<matplotlib.lines.Line2D at 0x7ff47db04f28>]"
            ]
          },
          "metadata": {
            "tags": []
          },
          "execution_count": 37
        },
        {
          "output_type": "display_data",
          "data": {
            "image/png": "[encoded data removed]",
            "text/plain": [
              "<Figure size 432x288 with 1 Axes>"
            ]
          },
          "metadata": {
            "tags": [],
            "needs_background": "light"
          }
        }
      ]
    },
    {
      "cell_type": "code",
      "metadata": {
        "colab": {
          "base_uri": "https://localhost:8080/"
        },
        "id": "qId7nfpLCyTm",
        "outputId": "10bd65de-bdc6-4eae-b3ca-9d145d573f54"
      },
      "source": [
        "lr3.get_weights()"
      ],
      "execution_count": null,
      "outputs": [
        {
          "output_type": "execute_result",
          "data": {
            "text/plain": [
              "[array([[82.397385]], dtype=float32), array([-3.3961267], dtype=float32)]"
            ]
          },
          "metadata": {
            "tags": []
          },
          "execution_count": 38
        }
      ]
    }
  ]
}